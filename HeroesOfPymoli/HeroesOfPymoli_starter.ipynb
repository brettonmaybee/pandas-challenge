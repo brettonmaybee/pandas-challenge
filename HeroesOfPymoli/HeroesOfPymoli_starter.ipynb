{
 "cells": [
  {
   "cell_type": "markdown",
   "metadata": {},
   "source": [
    "### Note\n",
    "* Instructions have been included for each segment. You do not have to follow them exactly, but they are included to help you think through the steps."
   ]
  },
  {
   "cell_type": "code",
   "execution_count": 2,
   "metadata": {},
   "outputs": [],
   "source": [
    "# Dependencies and Setup\n",
    "import pandas as pd\n",
    "\n",
    "# File to Load (Remember to Change These)\n",
    "file_to_load = \"../Resources/purchase_data.csv\"\n",
    "\n",
    "# Read Purchasing File and store into Pandas data frame\n",
    "purchase_data = pd.read_csv(file_to_load)"
   ]
  },
  {
   "cell_type": "markdown",
   "metadata": {},
   "source": [
    "## Player Count"
   ]
  },
  {
   "cell_type": "markdown",
   "metadata": {},
   "source": [
    "* Display the total number of players\n"
   ]
  },
  {
   "cell_type": "code",
   "execution_count": 3,
   "metadata": {},
   "outputs": [
    {
     "data": {
      "text/html": [
       "<div>\n",
       "<style scoped>\n",
       "    .dataframe tbody tr th:only-of-type {\n",
       "        vertical-align: middle;\n",
       "    }\n",
       "\n",
       "    .dataframe tbody tr th {\n",
       "        vertical-align: top;\n",
       "    }\n",
       "\n",
       "    .dataframe thead th {\n",
       "        text-align: right;\n",
       "    }\n",
       "</style>\n",
       "<table border=\"1\" class=\"dataframe\">\n",
       "  <thead>\n",
       "    <tr style=\"text-align: right;\">\n",
       "      <th></th>\n",
       "      <th>Total Players</th>\n",
       "    </tr>\n",
       "  </thead>\n",
       "  <tbody>\n",
       "    <tr>\n",
       "      <th>0</th>\n",
       "      <td>576</td>\n",
       "    </tr>\n",
       "  </tbody>\n",
       "</table>\n",
       "</div>"
      ],
      "text/plain": [
       "   Total Players\n",
       "0            576"
      ]
     },
     "execution_count": 3,
     "metadata": {},
     "output_type": "execute_result"
    }
   ],
   "source": [
    "# Calculate the total number of players\n",
    "player_count = len(purchase_data[\"SN\"].unique())\n",
    "#Display data frame containing total number of players\n",
    "total_players_df=pd.DataFrame({\"Total Players\":[player_count]})\n",
    "total_players_df"
   ]
  },
  {
   "cell_type": "markdown",
   "metadata": {},
   "source": [
    "## Purchasing Analysis (Total)"
   ]
  },
  {
   "cell_type": "markdown",
   "metadata": {},
   "source": [
    "* Run basic calculations to obtain number of unique items, average price, etc.\n",
    "\n",
    "\n",
    "* Create a summary data frame to hold the results\n",
    "\n",
    "\n",
    "* Optional: give the displayed data cleaner formatting\n",
    "\n",
    "\n",
    "* Display the summary data frame\n"
   ]
  },
  {
   "cell_type": "code",
   "execution_count": 4,
   "metadata": {
    "scrolled": true
   },
   "outputs": [
    {
     "data": {
      "text/html": [
       "<style  type=\"text/css\" >\n",
       "</style><table id=\"T_0f6d03c3_f713_11ea_81fd_04922657055d\" ><thead>    <tr>        <th class=\"blank level0\" ></th>        <th class=\"col_heading level0 col0\" >Number of Unique Items</th>        <th class=\"col_heading level0 col1\" >Average Price</th>        <th class=\"col_heading level0 col2\" >Number of Purchases</th>        <th class=\"col_heading level0 col3\" >Total Revanue</th>    </tr></thead><tbody>\n",
       "                <tr>\n",
       "                        <th id=\"T_0f6d03c3_f713_11ea_81fd_04922657055dlevel0_row0\" class=\"row_heading level0 row0\" >0</th>\n",
       "                        <td id=\"T_0f6d03c3_f713_11ea_81fd_04922657055drow0_col0\" class=\"data row0 col0\" >179</td>\n",
       "                        <td id=\"T_0f6d03c3_f713_11ea_81fd_04922657055drow0_col1\" class=\"data row0 col1\" >$3.05</td>\n",
       "                        <td id=\"T_0f6d03c3_f713_11ea_81fd_04922657055drow0_col2\" class=\"data row0 col2\" >780</td>\n",
       "                        <td id=\"T_0f6d03c3_f713_11ea_81fd_04922657055drow0_col3\" class=\"data row0 col3\" >$2,379.77</td>\n",
       "            </tr>\n",
       "    </tbody></table>"
      ],
      "text/plain": [
       "<pandas.io.formats.style.Styler at 0x2b01fb0e6a0>"
      ]
     },
     "execution_count": 4,
     "metadata": {},
     "output_type": "execute_result"
    }
   ],
   "source": [
    "# Calculate the number of unique items\n",
    "unique_items = len(purchase_data[\"Item ID\"].unique())\n",
    "#Calculate the average prices\n",
    "average_price=purchase_data.loc[:,\"Price\"].mean()\n",
    "#Calculate the total number of purchases\n",
    "total_purchases=len(purchase_data[\"Purchase ID\"])\n",
    "#Calculate the total revanue\n",
    "total_revanue=sum(purchase_data[\"Price\"])\n",
    "#Create a summary data frame\n",
    "summary_df=pd.DataFrame({\"Number of Unique Items\":[unique_items],\n",
    "                         \"Average Price\":[average_price],\n",
    "                         \"Number of Purchases\":[total_purchases],\n",
    "                         \"Total Revanue\":[total_revanue]})\n",
    "\n",
    "#Display the summary data frame\n",
    "summary_df.style.format({\"Average Price\": \"${:,.2f}\", \n",
    "                      \"Total Revanue\": \"${:,.2f}\"})\n"
   ]
  },
  {
   "cell_type": "markdown",
   "metadata": {},
   "source": [
    "## Gender Demographics"
   ]
  },
  {
   "cell_type": "markdown",
   "metadata": {},
   "source": [
    "* Percentage and Count of Male Players\n",
    "\n",
    "\n",
    "* Percentage and Count of Female Players\n",
    "\n",
    "\n",
    "* Percentage and Count of Other / Non-Disclosed\n",
    "\n",
    "\n"
   ]
  },
  {
   "cell_type": "code",
   "execution_count": 5,
   "metadata": {},
   "outputs": [
    {
     "data": {
      "text/html": [
       "<style  type=\"text/css\" >\n",
       "</style><table id=\"T_10a2005f_f713_11ea_8113_04922657055d\" ><thead>    <tr>        <th class=\"blank level0\" ></th>        <th class=\"col_heading level0 col0\" >Gender</th>        <th class=\"col_heading level0 col1\" >Percentage of Players</th>    </tr></thead><tbody>\n",
       "                <tr>\n",
       "                        <th id=\"T_10a2005f_f713_11ea_8113_04922657055dlevel0_row0\" class=\"row_heading level0 row0\" >Male</th>\n",
       "                        <td id=\"T_10a2005f_f713_11ea_8113_04922657055drow0_col0\" class=\"data row0 col0\" >484</td>\n",
       "                        <td id=\"T_10a2005f_f713_11ea_8113_04922657055drow0_col1\" class=\"data row0 col1\" >84.03%</td>\n",
       "            </tr>\n",
       "            <tr>\n",
       "                        <th id=\"T_10a2005f_f713_11ea_8113_04922657055dlevel0_row1\" class=\"row_heading level0 row1\" >Female</th>\n",
       "                        <td id=\"T_10a2005f_f713_11ea_8113_04922657055drow1_col0\" class=\"data row1 col0\" >81</td>\n",
       "                        <td id=\"T_10a2005f_f713_11ea_8113_04922657055drow1_col1\" class=\"data row1 col1\" >14.06%</td>\n",
       "            </tr>\n",
       "            <tr>\n",
       "                        <th id=\"T_10a2005f_f713_11ea_8113_04922657055dlevel0_row2\" class=\"row_heading level0 row2\" >Other / Non-Disclosed</th>\n",
       "                        <td id=\"T_10a2005f_f713_11ea_8113_04922657055drow2_col0\" class=\"data row2 col0\" >11</td>\n",
       "                        <td id=\"T_10a2005f_f713_11ea_8113_04922657055drow2_col1\" class=\"data row2 col1\" >1.91%</td>\n",
       "            </tr>\n",
       "    </tbody></table>"
      ],
      "text/plain": [
       "<pandas.io.formats.style.Styler at 0x2b020b9dcd0>"
      ]
     },
     "execution_count": 5,
     "metadata": {},
     "output_type": "execute_result"
    }
   ],
   "source": [
    "#Create set with sn and gender\n",
    "gender_df = purchase_data[[\"SN\", \"Gender\"]]\n",
    "#Drop Duplicate rows to account for multiple purchases made by player\n",
    "count_gender=gender_df.drop_duplicates()\n",
    "#Player count by gender\n",
    "gender_sum_df=pd.DataFrame(count_gender['Gender'].value_counts())\n",
    "#Add percentage of players column to data frame\n",
    "gender_sum_df[\"Percentage of Players\"] = (gender_sum_df[\"Gender\"]/gender_sum_df[\"Gender\"].sum()*100)\n",
    "#Display data frame\n",
    "gender_sum_df.style.format({\"Percentage of Players\": \"{:.2f}%\"})"
   ]
  },
  {
   "cell_type": "markdown",
   "metadata": {},
   "source": [
    "\n",
    "## Purchasing Analysis (Gender)"
   ]
  },
  {
   "cell_type": "markdown",
   "metadata": {},
   "source": [
    "* Run basic calculations to obtain purchase count, avg. purchase price, avg. purchase total per person etc. by gender\n",
    "\n",
    "\n",
    "\n",
    "\n",
    "* Create a summary data frame to hold the results\n",
    "\n",
    "\n",
    "* Optional: give the displayed data cleaner formatting\n",
    "\n",
    "\n",
    "* Display the summary data frame"
   ]
  },
  {
   "cell_type": "code",
   "execution_count": 16,
   "metadata": {},
   "outputs": [
    {
     "data": {
      "text/html": [
       "<style  type=\"text/css\" >\n",
       "</style><table id=\"T_1ccb39c3_f71d_11ea_9a23_04922657055d\" ><thead>    <tr>        <th class=\"blank level0\" ></th>        <th class=\"col_heading level0 col0\" >Purchase Count</th>        <th class=\"col_heading level0 col1\" >Average Purchase Price</th>        <th class=\"col_heading level0 col2\" >Total Purchase Price</th>        <th class=\"col_heading level0 col3\" >Avg Total Purchase per Person</th>    </tr>    <tr>        <th class=\"index_name level0\" >Gender</th>        <th class=\"blank\" ></th>        <th class=\"blank\" ></th>        <th class=\"blank\" ></th>        <th class=\"blank\" ></th>    </tr></thead><tbody>\n",
       "                <tr>\n",
       "                        <th id=\"T_1ccb39c3_f71d_11ea_9a23_04922657055dlevel0_row0\" class=\"row_heading level0 row0\" >Female</th>\n",
       "                        <td id=\"T_1ccb39c3_f71d_11ea_9a23_04922657055drow0_col0\" class=\"data row0 col0\" >113</td>\n",
       "                        <td id=\"T_1ccb39c3_f71d_11ea_9a23_04922657055drow0_col1\" class=\"data row0 col1\" >$3.20</td>\n",
       "                        <td id=\"T_1ccb39c3_f71d_11ea_9a23_04922657055drow0_col2\" class=\"data row0 col2\" >$361.94</td>\n",
       "                        <td id=\"T_1ccb39c3_f71d_11ea_9a23_04922657055drow0_col3\" class=\"data row0 col3\" >$4.47</td>\n",
       "            </tr>\n",
       "            <tr>\n",
       "                        <th id=\"T_1ccb39c3_f71d_11ea_9a23_04922657055dlevel0_row1\" class=\"row_heading level0 row1\" >Male</th>\n",
       "                        <td id=\"T_1ccb39c3_f71d_11ea_9a23_04922657055drow1_col0\" class=\"data row1 col0\" >652</td>\n",
       "                        <td id=\"T_1ccb39c3_f71d_11ea_9a23_04922657055drow1_col1\" class=\"data row1 col1\" >$3.02</td>\n",
       "                        <td id=\"T_1ccb39c3_f71d_11ea_9a23_04922657055drow1_col2\" class=\"data row1 col2\" >$1,967.64</td>\n",
       "                        <td id=\"T_1ccb39c3_f71d_11ea_9a23_04922657055drow1_col3\" class=\"data row1 col3\" >$4.07</td>\n",
       "            </tr>\n",
       "            <tr>\n",
       "                        <th id=\"T_1ccb39c3_f71d_11ea_9a23_04922657055dlevel0_row2\" class=\"row_heading level0 row2\" >Other / Non-Disclosed</th>\n",
       "                        <td id=\"T_1ccb39c3_f71d_11ea_9a23_04922657055drow2_col0\" class=\"data row2 col0\" >15</td>\n",
       "                        <td id=\"T_1ccb39c3_f71d_11ea_9a23_04922657055drow2_col1\" class=\"data row2 col1\" >$3.35</td>\n",
       "                        <td id=\"T_1ccb39c3_f71d_11ea_9a23_04922657055drow2_col2\" class=\"data row2 col2\" >$50.19</td>\n",
       "                        <td id=\"T_1ccb39c3_f71d_11ea_9a23_04922657055drow2_col3\" class=\"data row2 col3\" >$4.56</td>\n",
       "            </tr>\n",
       "    </tbody></table>"
      ],
      "text/plain": [
       "<pandas.io.formats.style.Styler at 0x2b020ad7370>"
      ]
     },
     "execution_count": 16,
     "metadata": {},
     "output_type": "execute_result"
    }
   ],
   "source": [
    "#Run basic calculations to obtain purchase count, avg. purchase price, avg. purchase total per person etc. by gender\n",
    "gender_grouped = purchase_data.groupby([\"Gender\"])\n",
    "price_count_df = pd.DataFrame(gender_grouped[\"Price\"].count())\n",
    "price_mean_df=pd.DataFrame(gender_grouped[\"Price\"].mean())\n",
    "price_sum_df=pd.DataFrame(gender_grouped[\"Price\"].sum())\n",
    "\n",
    "gender_grouped = purchase_data.groupby([\"Gender\",\"SN\"])\n",
    "tpp_df=pd.DataFrame(gender_grouped[\"Price\"].sum())\n",
    "tpp_gr=tpp_df.groupby([\"Gender\"])\n",
    "atpp_df=pd.DataFrame(tpp_gr[\"Price\"].mean())\n",
    "\n",
    "#Label colums\n",
    "pur_count=price_count_df.rename(columns={\"Price\": \"Purchase Count\"})\n",
    "app=price_mean_df.rename(columns={\"Price\": \"Average Purchase Price\"})\n",
    "tpv=price_sum_df.rename(columns={\"Price\": \"Total Purchase Value\"})\n",
    "atpp=atpp_df.rename(columns={\"Price\": \"Avg Total Purchase per Person\"})\n",
    "\n",
    "#Merge into a summary data frame to hold the results \n",
    "summary_df1 = pd.merge(pur_count, app, on=\"Gender\")\n",
    "summary_df2 =pd.merge(tpv, atpp, on=\"Gender\")\n",
    "summary_df=pd.merge(summary_df1, summary_df2, on=\"Gender\")\n",
    "\n",
    "#Display data frame formatted for currency\n",
    "summary_df.style.format({\"Average Purchase Price\": \"${:,.2f}\", \n",
    "                        \"Total Purchase Value\": \"${:,.2f}\",\n",
    "                        \"Avg Total Purchase per Person\": \"${:,.2f}\"})"
   ]
  },
  {
   "cell_type": "markdown",
   "metadata": {},
   "source": [
    "## Age Demographics"
   ]
  },
  {
   "cell_type": "markdown",
   "metadata": {},
   "source": [
    "* Establish bins for ages\n",
    "\n",
    "\n",
    "* Categorize the existing players using the age bins. Hint: use pd.cut()\n",
    "\n",
    "\n",
    "* Calculate the numbers and percentages by age group\n",
    "\n",
    "\n",
    "* Create a summary data frame to hold the results\n",
    "\n",
    "\n",
    "* Optional: round the percentage column to two decimal points\n",
    "\n",
    "\n",
    "* Display Age Demographics Table\n"
   ]
  },
  {
   "cell_type": "code",
   "execution_count": 17,
   "metadata": {},
   "outputs": [],
   "source": [
    "# Establish bins for ages \n",
    "bins = [0, 9, 14, 19, 24, 29, 34, 39, 100]\n",
    "age_groups=[\"<10\", \"10-14\", \"15-19\", \"20-24\", \"25-29\", \"30-34\", \"35-39\", \"40+\"]"
   ]
  },
  {
   "cell_type": "code",
   "execution_count": 36,
   "metadata": {},
   "outputs": [
    {
     "data": {
      "text/html": [
       "<style  type=\"text/css\" >\n",
       "</style><table id=\"T_c6547c33_f72d_11ea_bf9e_04922657055d\" ><thead>    <tr>        <th class=\"blank level0\" ></th>        <th class=\"col_heading level0 col0\" >Total Count</th>        <th class=\"col_heading level0 col1\" >Percentage of Players</th>    </tr>    <tr>        <th class=\"index_name level0\" >Age Ranges</th>        <th class=\"blank\" ></th>        <th class=\"blank\" ></th>    </tr></thead><tbody>\n",
       "                <tr>\n",
       "                        <th id=\"T_c6547c33_f72d_11ea_bf9e_04922657055dlevel0_row0\" class=\"row_heading level0 row0\" ><10</th>\n",
       "                        <td id=\"T_c6547c33_f72d_11ea_bf9e_04922657055drow0_col0\" class=\"data row0 col0\" >17</td>\n",
       "                        <td id=\"T_c6547c33_f72d_11ea_bf9e_04922657055drow0_col1\" class=\"data row0 col1\" >2.95%</td>\n",
       "            </tr>\n",
       "            <tr>\n",
       "                        <th id=\"T_c6547c33_f72d_11ea_bf9e_04922657055dlevel0_row1\" class=\"row_heading level0 row1\" >10-14</th>\n",
       "                        <td id=\"T_c6547c33_f72d_11ea_bf9e_04922657055drow1_col0\" class=\"data row1 col0\" >22</td>\n",
       "                        <td id=\"T_c6547c33_f72d_11ea_bf9e_04922657055drow1_col1\" class=\"data row1 col1\" >3.82%</td>\n",
       "            </tr>\n",
       "            <tr>\n",
       "                        <th id=\"T_c6547c33_f72d_11ea_bf9e_04922657055dlevel0_row2\" class=\"row_heading level0 row2\" >15-19</th>\n",
       "                        <td id=\"T_c6547c33_f72d_11ea_bf9e_04922657055drow2_col0\" class=\"data row2 col0\" >107</td>\n",
       "                        <td id=\"T_c6547c33_f72d_11ea_bf9e_04922657055drow2_col1\" class=\"data row2 col1\" >18.58%</td>\n",
       "            </tr>\n",
       "            <tr>\n",
       "                        <th id=\"T_c6547c33_f72d_11ea_bf9e_04922657055dlevel0_row3\" class=\"row_heading level0 row3\" >20-24</th>\n",
       "                        <td id=\"T_c6547c33_f72d_11ea_bf9e_04922657055drow3_col0\" class=\"data row3 col0\" >258</td>\n",
       "                        <td id=\"T_c6547c33_f72d_11ea_bf9e_04922657055drow3_col1\" class=\"data row3 col1\" >44.79%</td>\n",
       "            </tr>\n",
       "            <tr>\n",
       "                        <th id=\"T_c6547c33_f72d_11ea_bf9e_04922657055dlevel0_row4\" class=\"row_heading level0 row4\" >25-29</th>\n",
       "                        <td id=\"T_c6547c33_f72d_11ea_bf9e_04922657055drow4_col0\" class=\"data row4 col0\" >77</td>\n",
       "                        <td id=\"T_c6547c33_f72d_11ea_bf9e_04922657055drow4_col1\" class=\"data row4 col1\" >13.37%</td>\n",
       "            </tr>\n",
       "            <tr>\n",
       "                        <th id=\"T_c6547c33_f72d_11ea_bf9e_04922657055dlevel0_row5\" class=\"row_heading level0 row5\" >30-34</th>\n",
       "                        <td id=\"T_c6547c33_f72d_11ea_bf9e_04922657055drow5_col0\" class=\"data row5 col0\" >52</td>\n",
       "                        <td id=\"T_c6547c33_f72d_11ea_bf9e_04922657055drow5_col1\" class=\"data row5 col1\" >9.03%</td>\n",
       "            </tr>\n",
       "            <tr>\n",
       "                        <th id=\"T_c6547c33_f72d_11ea_bf9e_04922657055dlevel0_row6\" class=\"row_heading level0 row6\" >35-39</th>\n",
       "                        <td id=\"T_c6547c33_f72d_11ea_bf9e_04922657055drow6_col0\" class=\"data row6 col0\" >31</td>\n",
       "                        <td id=\"T_c6547c33_f72d_11ea_bf9e_04922657055drow6_col1\" class=\"data row6 col1\" >5.38%</td>\n",
       "            </tr>\n",
       "            <tr>\n",
       "                        <th id=\"T_c6547c33_f72d_11ea_bf9e_04922657055dlevel0_row7\" class=\"row_heading level0 row7\" >40+</th>\n",
       "                        <td id=\"T_c6547c33_f72d_11ea_bf9e_04922657055drow7_col0\" class=\"data row7 col0\" >12</td>\n",
       "                        <td id=\"T_c6547c33_f72d_11ea_bf9e_04922657055drow7_col1\" class=\"data row7 col1\" >2.08%</td>\n",
       "            </tr>\n",
       "    </tbody></table>"
      ],
      "text/plain": [
       "<pandas.io.formats.style.Styler at 0x2b020d8eb80>"
      ]
     },
     "execution_count": 36,
     "metadata": {},
     "output_type": "execute_result"
    }
   ],
   "source": [
    "#Catagorize existing players using age bins\n",
    "purchase_data[\"Age Ranges\"] = pd.cut(purchase_data[\"Age\"], bins, labels=age_groups, include_lowest=True)\n",
    "#Count unique players in each age group\n",
    "age_group_df =pd.DataFrame(purchase_data.groupby(\"Age Ranges\")['SN'].nunique())\n",
    "#Calculate percentages by age group\n",
    "age_group_df[\"Percentage of Players\"]=(age_group_df[\"SN\"]/age_group_df[\"SN\"].sum()*100)\n",
    "#Label and format summary data frame\n",
    "age_demo_df=age_group_df.rename(columns={\"SN\": \"Total Count\"})\n",
    "age_demo_df=age_demo_df.style.format({\"Percentage of Players\":\"{:.2f}%\"})\n",
    "age_demo_df"
   ]
  },
  {
   "cell_type": "markdown",
   "metadata": {},
   "source": [
    "## Purchasing Analysis (Age)"
   ]
  },
  {
   "cell_type": "markdown",
   "metadata": {},
   "source": [
    "* Bin the purchase_data data frame by age\n",
    "\n",
    "\n",
    "* Run basic calculations to obtain purchase count, avg. purchase price, avg. purchase total per person etc. in the table below\n",
    "\n",
    "\n",
    "* Create a summary data frame to hold the results\n",
    "\n",
    "\n",
    "* Optional: give the displayed data cleaner formatting\n",
    "\n",
    "\n",
    "* Display the summary data frame"
   ]
  },
  {
   "cell_type": "code",
   "execution_count": 25,
   "metadata": {},
   "outputs": [
    {
     "data": {
      "text/html": [
       "<style  type=\"text/css\" >\n",
       "</style><table id=\"T_c29c4a85_f724_11ea_b5e5_04922657055d\" ><thead>    <tr>        <th class=\"blank level0\" ></th>        <th class=\"col_heading level0 col0\" >Purchase Count</th>        <th class=\"col_heading level0 col1\" >Average Purchase Price</th>        <th class=\"col_heading level0 col2\" >Total Purchase Value</th>        <th class=\"col_heading level0 col3\" >Avg Total Purchase per Person</th>    </tr>    <tr>        <th class=\"index_name level0\" >Age Ranges</th>        <th class=\"blank\" ></th>        <th class=\"blank\" ></th>        <th class=\"blank\" ></th>        <th class=\"blank\" ></th>    </tr></thead><tbody>\n",
       "                <tr>\n",
       "                        <th id=\"T_c29c4a85_f724_11ea_b5e5_04922657055dlevel0_row0\" class=\"row_heading level0 row0\" ><10</th>\n",
       "                        <td id=\"T_c29c4a85_f724_11ea_b5e5_04922657055drow0_col0\" class=\"data row0 col0\" >23</td>\n",
       "                        <td id=\"T_c29c4a85_f724_11ea_b5e5_04922657055drow0_col1\" class=\"data row0 col1\" >$3.35</td>\n",
       "                        <td id=\"T_c29c4a85_f724_11ea_b5e5_04922657055drow0_col2\" class=\"data row0 col2\" >$77.13</td>\n",
       "                        <td id=\"T_c29c4a85_f724_11ea_b5e5_04922657055drow0_col3\" class=\"data row0 col3\" >$4.54</td>\n",
       "            </tr>\n",
       "            <tr>\n",
       "                        <th id=\"T_c29c4a85_f724_11ea_b5e5_04922657055dlevel0_row1\" class=\"row_heading level0 row1\" >10-14</th>\n",
       "                        <td id=\"T_c29c4a85_f724_11ea_b5e5_04922657055drow1_col0\" class=\"data row1 col0\" >28</td>\n",
       "                        <td id=\"T_c29c4a85_f724_11ea_b5e5_04922657055drow1_col1\" class=\"data row1 col1\" >$2.96</td>\n",
       "                        <td id=\"T_c29c4a85_f724_11ea_b5e5_04922657055drow1_col2\" class=\"data row1 col2\" >$82.78</td>\n",
       "                        <td id=\"T_c29c4a85_f724_11ea_b5e5_04922657055drow1_col3\" class=\"data row1 col3\" >$3.76</td>\n",
       "            </tr>\n",
       "            <tr>\n",
       "                        <th id=\"T_c29c4a85_f724_11ea_b5e5_04922657055dlevel0_row2\" class=\"row_heading level0 row2\" >15-19</th>\n",
       "                        <td id=\"T_c29c4a85_f724_11ea_b5e5_04922657055drow2_col0\" class=\"data row2 col0\" >136</td>\n",
       "                        <td id=\"T_c29c4a85_f724_11ea_b5e5_04922657055drow2_col1\" class=\"data row2 col1\" >$3.04</td>\n",
       "                        <td id=\"T_c29c4a85_f724_11ea_b5e5_04922657055drow2_col2\" class=\"data row2 col2\" >$412.89</td>\n",
       "                        <td id=\"T_c29c4a85_f724_11ea_b5e5_04922657055drow2_col3\" class=\"data row2 col3\" >$3.86</td>\n",
       "            </tr>\n",
       "            <tr>\n",
       "                        <th id=\"T_c29c4a85_f724_11ea_b5e5_04922657055dlevel0_row3\" class=\"row_heading level0 row3\" >20-24</th>\n",
       "                        <td id=\"T_c29c4a85_f724_11ea_b5e5_04922657055drow3_col0\" class=\"data row3 col0\" >365</td>\n",
       "                        <td id=\"T_c29c4a85_f724_11ea_b5e5_04922657055drow3_col1\" class=\"data row3 col1\" >$3.05</td>\n",
       "                        <td id=\"T_c29c4a85_f724_11ea_b5e5_04922657055drow3_col2\" class=\"data row3 col2\" >$1,114.06</td>\n",
       "                        <td id=\"T_c29c4a85_f724_11ea_b5e5_04922657055drow3_col3\" class=\"data row3 col3\" >$4.32</td>\n",
       "            </tr>\n",
       "            <tr>\n",
       "                        <th id=\"T_c29c4a85_f724_11ea_b5e5_04922657055dlevel0_row4\" class=\"row_heading level0 row4\" >25-29</th>\n",
       "                        <td id=\"T_c29c4a85_f724_11ea_b5e5_04922657055drow4_col0\" class=\"data row4 col0\" >101</td>\n",
       "                        <td id=\"T_c29c4a85_f724_11ea_b5e5_04922657055drow4_col1\" class=\"data row4 col1\" >$2.90</td>\n",
       "                        <td id=\"T_c29c4a85_f724_11ea_b5e5_04922657055drow4_col2\" class=\"data row4 col2\" >$293.00</td>\n",
       "                        <td id=\"T_c29c4a85_f724_11ea_b5e5_04922657055drow4_col3\" class=\"data row4 col3\" >$3.81</td>\n",
       "            </tr>\n",
       "            <tr>\n",
       "                        <th id=\"T_c29c4a85_f724_11ea_b5e5_04922657055dlevel0_row5\" class=\"row_heading level0 row5\" >30-34</th>\n",
       "                        <td id=\"T_c29c4a85_f724_11ea_b5e5_04922657055drow5_col0\" class=\"data row5 col0\" >73</td>\n",
       "                        <td id=\"T_c29c4a85_f724_11ea_b5e5_04922657055drow5_col1\" class=\"data row5 col1\" >$2.93</td>\n",
       "                        <td id=\"T_c29c4a85_f724_11ea_b5e5_04922657055drow5_col2\" class=\"data row5 col2\" >$214.00</td>\n",
       "                        <td id=\"T_c29c4a85_f724_11ea_b5e5_04922657055drow5_col3\" class=\"data row5 col3\" >$4.12</td>\n",
       "            </tr>\n",
       "            <tr>\n",
       "                        <th id=\"T_c29c4a85_f724_11ea_b5e5_04922657055dlevel0_row6\" class=\"row_heading level0 row6\" >35-39</th>\n",
       "                        <td id=\"T_c29c4a85_f724_11ea_b5e5_04922657055drow6_col0\" class=\"data row6 col0\" >41</td>\n",
       "                        <td id=\"T_c29c4a85_f724_11ea_b5e5_04922657055drow6_col1\" class=\"data row6 col1\" >$3.60</td>\n",
       "                        <td id=\"T_c29c4a85_f724_11ea_b5e5_04922657055drow6_col2\" class=\"data row6 col2\" >$147.67</td>\n",
       "                        <td id=\"T_c29c4a85_f724_11ea_b5e5_04922657055drow6_col3\" class=\"data row6 col3\" >$4.76</td>\n",
       "            </tr>\n",
       "            <tr>\n",
       "                        <th id=\"T_c29c4a85_f724_11ea_b5e5_04922657055dlevel0_row7\" class=\"row_heading level0 row7\" >40+</th>\n",
       "                        <td id=\"T_c29c4a85_f724_11ea_b5e5_04922657055drow7_col0\" class=\"data row7 col0\" >13</td>\n",
       "                        <td id=\"T_c29c4a85_f724_11ea_b5e5_04922657055drow7_col1\" class=\"data row7 col1\" >$2.94</td>\n",
       "                        <td id=\"T_c29c4a85_f724_11ea_b5e5_04922657055drow7_col2\" class=\"data row7 col2\" >$38.24</td>\n",
       "                        <td id=\"T_c29c4a85_f724_11ea_b5e5_04922657055drow7_col3\" class=\"data row7 col3\" >$3.19</td>\n",
       "            </tr>\n",
       "    </tbody></table>"
      ],
      "text/plain": [
       "<pandas.io.formats.style.Styler at 0x2b01fae2e50>"
      ]
     },
     "execution_count": 25,
     "metadata": {},
     "output_type": "execute_result"
    }
   ],
   "source": [
    "#Catagorize existing players using age bins\n",
    "purchase_data[\"Age Ranges\"] = pd.cut(purchase_data[\"Age\"], bins, labels=age_groups, include_lowest=True)\n",
    "\n",
    "age_grouped = purchase_data.groupby([\"Age Ranges\"])\n",
    "age_count_df = pd.DataFrame(age_grouped[\"Price\"].count())\n",
    "age_mean_df=pd.DataFrame(age_grouped[\"Price\"].mean())\n",
    "age_sum_df=pd.DataFrame(age_grouped[\"Price\"].sum())\n",
    "\n",
    "age_grouped = purchase_data.groupby([\"Age Ranges\",\"SN\"])\n",
    "tpp_df=pd.DataFrame(age_grouped[\"Price\"].sum())\n",
    "tpp_gr=tpp_df.groupby([\"Age Ranges\"])\n",
    "atpp_df=pd.DataFrame(tpp_gr[\"Price\"].mean())\n",
    "\n",
    "#Label colums\n",
    "pur_count=age_count_df.rename(columns={\"Price\": \"Purchase Count\"})\n",
    "app=age_mean_df.rename(columns={\"Price\": \"Average Purchase Price\"})\n",
    "tpv=age_sum_df.rename(columns={\"Price\": \"Total Purchase Value\"})\n",
    "atpp=atpp_df.rename(columns={\"Price\": \"Avg Total Purchase per Person\"})\n",
    "\n",
    "#Merge into a summary data frame to hold the results \n",
    "summary_df1 = pd.merge(pur_count, app, on=\"Age Ranges\")\n",
    "summary_df2 =pd.merge(tpv, atpp, on=\"Age Ranges\")\n",
    "summary_df=pd.merge(summary_df1, summary_df2, on=\"Age Ranges\")\n",
    "\n",
    "#Display data frame formatted for currency\n",
    "summary_df.style.format({\"Average Purchase Price\": \"${:,.2f}\", \n",
    "                        \"Total Purchase Value\": \"${:,.2f}\",\n",
    "                        \"Avg Total Purchase per Person\": \"${:,.2f}\"})"
   ]
  },
  {
   "cell_type": "markdown",
   "metadata": {},
   "source": [
    "## Top Spenders"
   ]
  },
  {
   "cell_type": "markdown",
   "metadata": {},
   "source": [
    "* Run basic calculations to obtain the results in the table below\n",
    "\n",
    "\n",
    "* Create a summary data frame to hold the results\n",
    "\n",
    "\n",
    "* Sort the total purchase value column in descending order\n",
    "\n",
    "\n",
    "* Optional: give the displayed data cleaner formatting\n",
    "\n",
    "\n",
    "* Display a preview of the summary data frame\n",
    "\n"
   ]
  },
  {
   "cell_type": "code",
   "execution_count": null,
   "metadata": {},
   "outputs": [],
   "source": []
  },
  {
   "cell_type": "markdown",
   "metadata": {},
   "source": [
    "## Most Popular Items"
   ]
  },
  {
   "cell_type": "markdown",
   "metadata": {},
   "source": [
    "* Retrieve the Item ID, Item Name, and Item Price columns\n",
    "\n",
    "\n",
    "* Group by Item ID and Item Name. Perform calculations to obtain purchase count, item price, and total purchase value\n",
    "\n",
    "\n",
    "* Create a summary data frame to hold the results\n",
    "\n",
    "\n",
    "* Sort the purchase count column in descending order\n",
    "\n",
    "\n",
    "* Optional: give the displayed data cleaner formatting\n",
    "\n",
    "\n",
    "* Display a preview of the summary data frame\n",
    "\n"
   ]
  },
  {
   "cell_type": "code",
   "execution_count": null,
   "metadata": {},
   "outputs": [],
   "source": []
  },
  {
   "cell_type": "markdown",
   "metadata": {},
   "source": [
    "## Most Profitable Items"
   ]
  },
  {
   "cell_type": "markdown",
   "metadata": {},
   "source": [
    "* Sort the above table by total purchase value in descending order\n",
    "\n",
    "\n",
    "* Optional: give the displayed data cleaner formatting\n",
    "\n",
    "\n",
    "* Display a preview of the data frame\n",
    "\n"
   ]
  },
  {
   "cell_type": "code",
   "execution_count": null,
   "metadata": {
    "scrolled": true
   },
   "outputs": [],
   "source": []
  }
 ],
 "metadata": {
  "anaconda-cloud": {},
  "kernel_info": {
   "name": "python3"
  },
  "kernelspec": {
   "display_name": "Python 3",
   "language": "python",
   "name": "python3"
  },
  "language_info": {
   "codemirror_mode": {
    "name": "ipython",
    "version": 3
   },
   "file_extension": ".py",
   "mimetype": "text/x-python",
   "name": "python",
   "nbconvert_exporter": "python",
   "pygments_lexer": "ipython3",
   "version": "3.8.3"
  },
  "latex_envs": {
   "LaTeX_envs_menu_present": true,
   "autoclose": false,
   "autocomplete": true,
   "bibliofile": "biblio.bib",
   "cite_by": "apalike",
   "current_citInitial": 1,
   "eqLabelWithNumbers": true,
   "eqNumInitial": 1,
   "hotkeys": {
    "equation": "Ctrl-E",
    "itemize": "Ctrl-I"
   },
   "labels_anchors": false,
   "latex_user_defs": false,
   "report_style_numbering": false,
   "user_envs_cfg": false
  },
  "nteract": {
   "version": "0.2.0"
  }
 },
 "nbformat": 4,
 "nbformat_minor": 2
}
