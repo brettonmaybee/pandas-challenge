{
 "cells": [
  {
   "cell_type": "markdown",
   "metadata": {},
   "source": [
    "### Note\n",
    "* Instructions have been included for each segment. You do not have to follow them exactly, but they are included to help you think through the steps."
   ]
  },
  {
   "cell_type": "code",
   "execution_count": 2,
   "metadata": {},
   "outputs": [],
   "source": [
    "# Dependencies and Setup\n",
    "import pandas as pd\n",
    "\n",
    "# File to Load (Remember to Change These)\n",
    "file_to_load = \"../Resources/purchase_data.csv\"\n",
    "\n",
    "# Read Purchasing File and store into Pandas data frame\n",
    "purchase_data = pd.read_csv(file_to_load)"
   ]
  },
  {
   "cell_type": "markdown",
   "metadata": {},
   "source": [
    "## Player Count"
   ]
  },
  {
   "cell_type": "markdown",
   "metadata": {},
   "source": [
    "* Display the total number of players\n"
   ]
  },
  {
   "cell_type": "code",
   "execution_count": 3,
   "metadata": {},
   "outputs": [
    {
     "data": {
      "text/html": [
       "<div>\n",
       "<style scoped>\n",
       "    .dataframe tbody tr th:only-of-type {\n",
       "        vertical-align: middle;\n",
       "    }\n",
       "\n",
       "    .dataframe tbody tr th {\n",
       "        vertical-align: top;\n",
       "    }\n",
       "\n",
       "    .dataframe thead th {\n",
       "        text-align: right;\n",
       "    }\n",
       "</style>\n",
       "<table border=\"1\" class=\"dataframe\">\n",
       "  <thead>\n",
       "    <tr style=\"text-align: right;\">\n",
       "      <th></th>\n",
       "      <th>Total Players</th>\n",
       "    </tr>\n",
       "  </thead>\n",
       "  <tbody>\n",
       "    <tr>\n",
       "      <th>0</th>\n",
       "      <td>576</td>\n",
       "    </tr>\n",
       "  </tbody>\n",
       "</table>\n",
       "</div>"
      ],
      "text/plain": [
       "   Total Players\n",
       "0            576"
      ]
     },
     "execution_count": 3,
     "metadata": {},
     "output_type": "execute_result"
    }
   ],
   "source": [
    "# Calculate the total number of players\n",
    "player_count = len(purchase_data[\"SN\"].unique())\n",
    "#Display data frame containing total number of players\n",
    "total_players_df=pd.DataFrame({\"Total Players\":[player_count]})\n",
    "total_players_df"
   ]
  },
  {
   "cell_type": "markdown",
   "metadata": {},
   "source": [
    "## Purchasing Analysis (Total)"
   ]
  },
  {
   "cell_type": "markdown",
   "metadata": {},
   "source": [
    "* Run basic calculations to obtain number of unique items, average price, etc.\n",
    "\n",
    "\n",
    "* Create a summary data frame to hold the results\n",
    "\n",
    "\n",
    "* Optional: give the displayed data cleaner formatting\n",
    "\n",
    "\n",
    "* Display the summary data frame\n"
   ]
  },
  {
   "cell_type": "code",
   "execution_count": 4,
   "metadata": {
    "scrolled": true
   },
   "outputs": [
    {
     "data": {
      "text/html": [
       "<style  type=\"text/css\" >\n",
       "</style><table id=\"T_e28fb7a7_f66e_11ea_aeee_04922657055d\" ><thead>    <tr>        <th class=\"blank level0\" ></th>        <th class=\"col_heading level0 col0\" >Number of Unique Items</th>        <th class=\"col_heading level0 col1\" >Average Price</th>        <th class=\"col_heading level0 col2\" >Number of Purchases</th>        <th class=\"col_heading level0 col3\" >Total Revanue</th>    </tr></thead><tbody>\n",
       "                <tr>\n",
       "                        <th id=\"T_e28fb7a7_f66e_11ea_aeee_04922657055dlevel0_row0\" class=\"row_heading level0 row0\" >0</th>\n",
       "                        <td id=\"T_e28fb7a7_f66e_11ea_aeee_04922657055drow0_col0\" class=\"data row0 col0\" >179</td>\n",
       "                        <td id=\"T_e28fb7a7_f66e_11ea_aeee_04922657055drow0_col1\" class=\"data row0 col1\" >$3.05</td>\n",
       "                        <td id=\"T_e28fb7a7_f66e_11ea_aeee_04922657055drow0_col2\" class=\"data row0 col2\" >780</td>\n",
       "                        <td id=\"T_e28fb7a7_f66e_11ea_aeee_04922657055drow0_col3\" class=\"data row0 col3\" >$2,379.77</td>\n",
       "            </tr>\n",
       "    </tbody></table>"
      ],
      "text/plain": [
       "<pandas.io.formats.style.Styler at 0x1aa47c88a00>"
      ]
     },
     "execution_count": 4,
     "metadata": {},
     "output_type": "execute_result"
    }
   ],
   "source": [
    "# Calculate the number of unique items\n",
    "unique_items = len(purchase_data[\"Item ID\"].unique())\n",
    "#Calculate the average prices\n",
    "average_price=purchase_data.loc[:,\"Price\"].mean()\n",
    "#Calculate the total number of purchases\n",
    "total_purchases=len(purchase_data[\"Purchase ID\"])\n",
    "#Calculate the total revanue\n",
    "total_revanue=sum(purchase_data[\"Price\"])\n",
    "#Create a summary data frame\n",
    "summary_df=pd.DataFrame({\"Number of Unique Items\":[unique_items],\n",
    "                         \"Average Price\":[average_price],\n",
    "                         \"Number of Purchases\":[total_purchases],\n",
    "                         \"Total Revanue\":[total_revanue]})\n",
    "\n",
    "#Display the summary data frame\n",
    "summary_df.style.format({\"Average Price\": \"${:,.2f}\", \n",
    "                      \"Total Revanue\": \"${:,.2f}\"})\n"
   ]
  },
  {
   "cell_type": "markdown",
   "metadata": {},
   "source": [
    "## Gender Demographics"
   ]
  },
  {
   "cell_type": "markdown",
   "metadata": {},
   "source": [
    "* Percentage and Count of Male Players\n",
    "\n",
    "\n",
    "* Percentage and Count of Female Players\n",
    "\n",
    "\n",
    "* Percentage and Count of Other / Non-Disclosed\n",
    "\n",
    "\n"
   ]
  },
  {
   "cell_type": "code",
   "execution_count": 13,
   "metadata": {},
   "outputs": [
    {
     "data": {
      "text/html": [
       "<style  type=\"text/css\" >\n",
       "</style><table id=\"T_9b1b8da5_f66f_11ea_b7af_04922657055d\" ><thead>    <tr>        <th class=\"blank level0\" ></th>        <th class=\"col_heading level0 col0\" >Gender</th>        <th class=\"col_heading level0 col1\" >Percentage of Players</th>    </tr></thead><tbody>\n",
       "                <tr>\n",
       "                        <th id=\"T_9b1b8da5_f66f_11ea_b7af_04922657055dlevel0_row0\" class=\"row_heading level0 row0\" >Male</th>\n",
       "                        <td id=\"T_9b1b8da5_f66f_11ea_b7af_04922657055drow0_col0\" class=\"data row0 col0\" >484</td>\n",
       "                        <td id=\"T_9b1b8da5_f66f_11ea_b7af_04922657055drow0_col1\" class=\"data row0 col1\" >84.03%</td>\n",
       "            </tr>\n",
       "            <tr>\n",
       "                        <th id=\"T_9b1b8da5_f66f_11ea_b7af_04922657055dlevel0_row1\" class=\"row_heading level0 row1\" >Female</th>\n",
       "                        <td id=\"T_9b1b8da5_f66f_11ea_b7af_04922657055drow1_col0\" class=\"data row1 col0\" >81</td>\n",
       "                        <td id=\"T_9b1b8da5_f66f_11ea_b7af_04922657055drow1_col1\" class=\"data row1 col1\" >14.06%</td>\n",
       "            </tr>\n",
       "            <tr>\n",
       "                        <th id=\"T_9b1b8da5_f66f_11ea_b7af_04922657055dlevel0_row2\" class=\"row_heading level0 row2\" >Other / Non-Disclosed</th>\n",
       "                        <td id=\"T_9b1b8da5_f66f_11ea_b7af_04922657055drow2_col0\" class=\"data row2 col0\" >11</td>\n",
       "                        <td id=\"T_9b1b8da5_f66f_11ea_b7af_04922657055drow2_col1\" class=\"data row2 col1\" >1.91%</td>\n",
       "            </tr>\n",
       "    </tbody></table>"
      ],
      "text/plain": [
       "<pandas.io.formats.style.Styler at 0x1aa4afef7c0>"
      ]
     },
     "execution_count": 13,
     "metadata": {},
     "output_type": "execute_result"
    }
   ],
   "source": [
    "#Create set with id and gender\n",
    "gender_df = purchase_data[[\"SN\", \"Gender\"]]\n",
    "#Drop Duplicate rows to account for multiple purchases made by player\n",
    "count_gender=gender_df.drop_duplicates()\n",
    "#Player count by gender\n",
    "gender_sum_df=pd.DataFrame(count_gender['Gender'].value_counts())\n",
    "#Add percentage of players column to data frame\n",
    "gender_sum_df[\"Percentage of Players\"] = (gender_sum_df[\"Gender\"]/gender_sum_df[\"Gender\"].sum()*100)\n",
    "#Display data frame\n",
    "gender_sum_df.style.format({\"Percentage of Players\": \"{:.2f}%\"})"
   ]
  },
  {
   "cell_type": "markdown",
   "metadata": {},
   "source": [
    "\n",
    "## Purchasing Analysis (Gender)"
   ]
  },
  {
   "cell_type": "markdown",
   "metadata": {},
   "source": [
    "* Run basic calculations to obtain purchase count, avg. purchase price, avg. purchase total per person etc. by gender\n",
    "\n",
    "\n",
    "\n",
    "\n",
    "* Create a summary data frame to hold the results\n",
    "\n",
    "\n",
    "* Optional: give the displayed data cleaner formatting\n",
    "\n",
    "\n",
    "* Display the summary data frame"
   ]
  },
  {
   "cell_type": "code",
   "execution_count": 43,
   "metadata": {},
   "outputs": [
    {
     "data": {
      "text/html": [
       "<div>\n",
       "<style scoped>\n",
       "    .dataframe tbody tr th:only-of-type {\n",
       "        vertical-align: middle;\n",
       "    }\n",
       "\n",
       "    .dataframe tbody tr th {\n",
       "        vertical-align: top;\n",
       "    }\n",
       "\n",
       "    .dataframe thead th {\n",
       "        text-align: right;\n",
       "    }\n",
       "</style>\n",
       "<table border=\"1\" class=\"dataframe\">\n",
       "  <thead>\n",
       "    <tr style=\"text-align: right;\">\n",
       "      <th></th>\n",
       "      <th>Purchase Count</th>\n",
       "      <th>Average Purchase Price</th>\n",
       "      <th>Total Purchase Value</th>\n",
       "    </tr>\n",
       "  </thead>\n",
       "  <tbody>\n",
       "    <tr>\n",
       "      <th>0</th>\n",
       "      <td>652</td>\n",
       "      <td>3.017853</td>\n",
       "      <td>1967.64</td>\n",
       "    </tr>\n",
       "  </tbody>\n",
       "</table>\n",
       "</div>"
      ],
      "text/plain": [
       "   Purchase Count  Average Purchase Price  Total Purchase Value\n",
       "0             652                3.017853               1967.64"
      ]
     },
     "execution_count": 43,
     "metadata": {},
     "output_type": "execute_result"
    }
   ],
   "source": [
    "#Group data by gender\n",
    "female_data = purchase_data.loc[purchase_data[\"Gender\"] == \"Female\", :]\n",
    "male_data = purchase_data.loc[purchase_data[\"Gender\"] == \"Male\", :]\n",
    "other_data= purchase_data.loc[purchase_data[\"Gender\"] == \"Other / Non-Disclosed\", :]\n",
    "#Analyze data for each gender group\n",
    "\n",
    "#Create data frame for male\n",
    "female_set=female_data[[\"SN\",\"Price\"]]                  \n",
    "#Calculate the total number of purchases\n",
    "total_purchases_female=len(female_data[\"SN\"])\n",
    "#Calculate the average prices\n",
    "average_price_female=female_data.loc[:,\"Price\"].mean()\n",
    "#Calculate the total revanue\n",
    "total_revanue_female=sum(female_data[\"Price\"])\n",
    "#Caluculate average total purchase per male\n",
    "female_grouped=female_set.groupby([\"Price\"])\n",
    "\n",
    "#Create data frame for male\n",
    "male_set=male_data[[\"SN\",\"Price\"]]                  \n",
    "#Calculate the total number of purchases\n",
    "total_purchases_male=len(male_data[\"SN\"])\n",
    "#Calculate the average prices\n",
    "average_price_male=male_data.loc[:,\"Price\"].mean()\n",
    "#Calculate the total revanue\n",
    "total_revanue_male=sum(male_data[\"Price\"])\n",
    "#Caluculate average total purchase per male\n",
    "male_grouped=male_set.groupby([\"Price\"])\n",
    "\n",
    "#Create data frame for male\n",
    "other_set=other_data[[\"SN\",\"Price\"]]                  \n",
    "#Calculate the total number of purchases\n",
    "total_purchases_other=len(other_data[\"SN\"])\n",
    "#Calculate the average prices\n",
    "average_price_other=other_data.loc[:,\"Price\"].mean()\n",
    "#Calculate the total revanue\n",
    "total_revanue_other=sum(other_data[\"Price\"])\n",
    "#Caluculate average total purchase per male\n",
    "other_grouped=other_set.groupby([\"Price\"])\n",
    "\n",
    "#Create a summary data frame for each gender group\n",
    "summary_female_df=pd.DataFrame({\"Purchase Count\":[total_purchases_female],\n",
    "                             \"Average Purchase Price\":[average_price_female],\n",
    "                             \"Total Purchase Value\":[total_revanue_female]})\n",
    "\n",
    "summary_men_df=pd.DataFrame({\"Purchase Count\":[total_purchases_male],\n",
    "                             \"Average Purchase Price\":[average_price_male],\n",
    "                             \"Total Purchase Value\":[total_revanue_male]})\n",
    "\n",
    "summary_other_df=pd.DataFrame({\"Purchase Count\":[total_purchases_other],\n",
    "                             \"Average Purchase Price\":[average_price_other],\n",
    "                             \"Total Purchase Value\":[total_revanue_other]})\n",
    "\n",
    "summary_other_df\n",
    "\n",
    "\n",
    "\n",
    "\n",
    "\n",
    "summary_men_df\n"
   ]
  },
  {
   "cell_type": "markdown",
   "metadata": {},
   "source": [
    "## Age Demographics"
   ]
  },
  {
   "cell_type": "markdown",
   "metadata": {},
   "source": [
    "* Establish bins for ages\n",
    "\n",
    "\n",
    "* Categorize the existing players using the age bins. Hint: use pd.cut()\n",
    "\n",
    "\n",
    "* Calculate the numbers and percentages by age group\n",
    "\n",
    "\n",
    "* Create a summary data frame to hold the results\n",
    "\n",
    "\n",
    "* Optional: round the percentage column to two decimal points\n",
    "\n",
    "\n",
    "* Display Age Demographics Table\n"
   ]
  },
  {
   "cell_type": "code",
   "execution_count": null,
   "metadata": {},
   "outputs": [],
   "source": []
  },
  {
   "cell_type": "markdown",
   "metadata": {},
   "source": [
    "## Purchasing Analysis (Age)"
   ]
  },
  {
   "cell_type": "markdown",
   "metadata": {},
   "source": [
    "* Bin the purchase_data data frame by age\n",
    "\n",
    "\n",
    "* Run basic calculations to obtain purchase count, avg. purchase price, avg. purchase total per person etc. in the table below\n",
    "\n",
    "\n",
    "* Create a summary data frame to hold the results\n",
    "\n",
    "\n",
    "* Optional: give the displayed data cleaner formatting\n",
    "\n",
    "\n",
    "* Display the summary data frame"
   ]
  },
  {
   "cell_type": "code",
   "execution_count": null,
   "metadata": {},
   "outputs": [],
   "source": []
  },
  {
   "cell_type": "markdown",
   "metadata": {},
   "source": [
    "## Top Spenders"
   ]
  },
  {
   "cell_type": "markdown",
   "metadata": {},
   "source": [
    "* Run basic calculations to obtain the results in the table below\n",
    "\n",
    "\n",
    "* Create a summary data frame to hold the results\n",
    "\n",
    "\n",
    "* Sort the total purchase value column in descending order\n",
    "\n",
    "\n",
    "* Optional: give the displayed data cleaner formatting\n",
    "\n",
    "\n",
    "* Display a preview of the summary data frame\n",
    "\n"
   ]
  },
  {
   "cell_type": "code",
   "execution_count": null,
   "metadata": {},
   "outputs": [],
   "source": []
  },
  {
   "cell_type": "markdown",
   "metadata": {},
   "source": [
    "## Most Popular Items"
   ]
  },
  {
   "cell_type": "markdown",
   "metadata": {},
   "source": [
    "* Retrieve the Item ID, Item Name, and Item Price columns\n",
    "\n",
    "\n",
    "* Group by Item ID and Item Name. Perform calculations to obtain purchase count, item price, and total purchase value\n",
    "\n",
    "\n",
    "* Create a summary data frame to hold the results\n",
    "\n",
    "\n",
    "* Sort the purchase count column in descending order\n",
    "\n",
    "\n",
    "* Optional: give the displayed data cleaner formatting\n",
    "\n",
    "\n",
    "* Display a preview of the summary data frame\n",
    "\n"
   ]
  },
  {
   "cell_type": "code",
   "execution_count": null,
   "metadata": {},
   "outputs": [],
   "source": []
  },
  {
   "cell_type": "markdown",
   "metadata": {},
   "source": [
    "## Most Profitable Items"
   ]
  },
  {
   "cell_type": "markdown",
   "metadata": {},
   "source": [
    "* Sort the above table by total purchase value in descending order\n",
    "\n",
    "\n",
    "* Optional: give the displayed data cleaner formatting\n",
    "\n",
    "\n",
    "* Display a preview of the data frame\n",
    "\n"
   ]
  },
  {
   "cell_type": "code",
   "execution_count": null,
   "metadata": {
    "scrolled": true
   },
   "outputs": [],
   "source": []
  }
 ],
 "metadata": {
  "anaconda-cloud": {},
  "kernel_info": {
   "name": "python3"
  },
  "kernelspec": {
   "display_name": "Python 3",
   "language": "python",
   "name": "python3"
  },
  "language_info": {
   "codemirror_mode": {
    "name": "ipython",
    "version": 3
   },
   "file_extension": ".py",
   "mimetype": "text/x-python",
   "name": "python",
   "nbconvert_exporter": "python",
   "pygments_lexer": "ipython3",
   "version": "3.8.3"
  },
  "latex_envs": {
   "LaTeX_envs_menu_present": true,
   "autoclose": false,
   "autocomplete": true,
   "bibliofile": "biblio.bib",
   "cite_by": "apalike",
   "current_citInitial": 1,
   "eqLabelWithNumbers": true,
   "eqNumInitial": 1,
   "hotkeys": {
    "equation": "Ctrl-E",
    "itemize": "Ctrl-I"
   },
   "labels_anchors": false,
   "latex_user_defs": false,
   "report_style_numbering": false,
   "user_envs_cfg": false
  },
  "nteract": {
   "version": "0.2.0"
  }
 },
 "nbformat": 4,
 "nbformat_minor": 2
}
