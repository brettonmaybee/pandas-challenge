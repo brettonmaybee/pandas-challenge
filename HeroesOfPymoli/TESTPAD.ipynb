{
 "cells": [
  {
   "cell_type": "code",
   "execution_count": 2,
   "metadata": {},
   "outputs": [],
   "source": [
    "# Dependencies and Setup\n",
    "import pandas as pd\n",
    "\n",
    "# File to Load (Remember to Change These)\n",
    "file_to_load = \"../Resources/purchase_data.csv\"\n",
    "\n",
    "# Read Purchasing File and store into Pandas data frame\n",
    "purchase_data = pd.read_csv(file_to_load)"
   ]
  },
  {
   "cell_type": "code",
   "execution_count": 3,
   "metadata": {},
   "outputs": [
    {
     "data": {
      "text/html": [
       "<div>\n",
       "<style scoped>\n",
       "    .dataframe tbody tr th:only-of-type {\n",
       "        vertical-align: middle;\n",
       "    }\n",
       "\n",
       "    .dataframe tbody tr th {\n",
       "        vertical-align: top;\n",
       "    }\n",
       "\n",
       "    .dataframe thead th {\n",
       "        text-align: right;\n",
       "    }\n",
       "</style>\n",
       "<table border=\"1\" class=\"dataframe\">\n",
       "  <thead>\n",
       "    <tr style=\"text-align: right;\">\n",
       "      <th></th>\n",
       "      <th>Total Players</th>\n",
       "    </tr>\n",
       "  </thead>\n",
       "  <tbody>\n",
       "    <tr>\n",
       "      <th>0</th>\n",
       "      <td>576</td>\n",
       "    </tr>\n",
       "  </tbody>\n",
       "</table>\n",
       "</div>"
      ],
      "text/plain": [
       "   Total Players\n",
       "0            576"
      ]
     },
     "execution_count": 3,
     "metadata": {},
     "output_type": "execute_result"
    }
   ],
   "source": [
    "# Calculate the total number of players\n",
    "player_count = len(purchase_data[\"SN\"].unique())\n",
    "#Display data frame containing total number of players\n",
    "total_players_df=pd.DataFrame({\"Total Players\":[player_count]})\n",
    "total_players_df"
   ]
  },
  {
   "cell_type": "code",
   "execution_count": 26,
   "metadata": {},
   "outputs": [
    {
     "data": {
      "text/html": [
       "<div>\n",
       "<style scoped>\n",
       "    .dataframe tbody tr th:only-of-type {\n",
       "        vertical-align: middle;\n",
       "    }\n",
       "\n",
       "    .dataframe tbody tr th {\n",
       "        vertical-align: top;\n",
       "    }\n",
       "\n",
       "    .dataframe thead th {\n",
       "        text-align: right;\n",
       "    }\n",
       "</style>\n",
       "<table border=\"1\" class=\"dataframe\">\n",
       "  <thead>\n",
       "    <tr style=\"text-align: right;\">\n",
       "      <th></th>\n",
       "      <th>Purchase Count</th>\n",
       "      <th>Average Purchase Price</th>\n",
       "      <th>Total Purchase Price</th>\n",
       "      <th>Avg Total Purchase per Person</th>\n",
       "    </tr>\n",
       "    <tr>\n",
       "      <th>Gender</th>\n",
       "      <th></th>\n",
       "      <th></th>\n",
       "      <th></th>\n",
       "      <th></th>\n",
       "    </tr>\n",
       "  </thead>\n",
       "  <tbody>\n",
       "    <tr>\n",
       "      <th>Female</th>\n",
       "      <td>113</td>\n",
       "      <td>3.203009</td>\n",
       "      <td>361.94</td>\n",
       "      <td>4.468395</td>\n",
       "    </tr>\n",
       "    <tr>\n",
       "      <th>Male</th>\n",
       "      <td>652</td>\n",
       "      <td>3.017853</td>\n",
       "      <td>1967.64</td>\n",
       "      <td>4.065372</td>\n",
       "    </tr>\n",
       "    <tr>\n",
       "      <th>Other / Non-Disclosed</th>\n",
       "      <td>15</td>\n",
       "      <td>3.346000</td>\n",
       "      <td>50.19</td>\n",
       "      <td>4.562727</td>\n",
       "    </tr>\n",
       "  </tbody>\n",
       "</table>\n",
       "</div>"
      ],
      "text/plain": [
       "                       Purchase Count  Average Purchase Price  \\\n",
       "Gender                                                          \n",
       "Female                            113                3.203009   \n",
       "Male                              652                3.017853   \n",
       "Other / Non-Disclosed              15                3.346000   \n",
       "\n",
       "                       Total Purchase Price  Avg Total Purchase per Person  \n",
       "Gender                                                                      \n",
       "Female                               361.94                       4.468395  \n",
       "Male                                1967.64                       4.065372  \n",
       "Other / Non-Disclosed                 50.19                       4.562727  "
      ]
     },
     "execution_count": 26,
     "metadata": {},
     "output_type": "execute_result"
    }
   ],
   "source": [
    "#Run basic calculations to obtain purchase count, avg. purchase price, avg. purchase total per person etc. by gender\n",
    "gender_grouped = purchase_data.groupby([\"Gender\"])\n",
    "price_count_df = pd.DataFrame(gender_grouped[\"Price\"].count())\n",
    "price_mean_df=pd.DataFrame(gender_grouped[\"Price\"].mean())\n",
    "price_sum_df=pd.DataFrame(gender_grouped[\"Price\"].sum())\n",
    "\n",
    "gender_grouped = purchase_data.groupby([\"Gender\",\"SN\"])\n",
    "tpp_df=pd.DataFrame(gender_grouped[\"Price\"].sum())\n",
    "tpp_gr=tpp_df.groupby([\"Gender\"])\n",
    "atpp_df=pd.DataFrame(tpp_gr[\"Price\"].mean())\n",
    "\n",
    "#Label colums\n",
    "pur_count=price_count_df.rename(columns={\"Price\": \"Purchase Count\"})\n",
    "app=price_mean_df.rename(columns={\"Price\": \"Average Purchase Price\"})\n",
    "tpv=price_sum_df.rename(columns={\"Price\": \"Total Purchase Price\"})\n",
    "atpp=atpp_df.rename(columns={\"Price\": \"Avg Total Purchase per Person\"})\n",
    "\n",
    "#Merge into a summary data frame to hold the results \n",
    "summary_df1 = pd.merge(pur_count, app, on=\"Gender\")\n",
    "\n",
    "summary_df2 =pd.merge(tpv, atpp, on=\"Gender\")\n",
    "\n",
    "summary_df=pd.merge(summary_df1, summary_df2, on=\"Gender\")\n",
    "\n",
    "summary_df"
   ]
  },
  {
   "cell_type": "code",
   "execution_count": 31,
   "metadata": {},
   "outputs": [],
   "source": [
    "# Establish bins for ages \n",
    "bins = [0, 9, 14, 19, 24, 29, 34, 39, 100]\n",
    "age_groups=[\"<10\", \"10-14\", \"15-19\", \"20-24\", \"25-29\", \"30-34\", \"35-39\", \"40+\"]"
   ]
  },
  {
   "cell_type": "code",
   "execution_count": 49,
   "metadata": {},
   "outputs": [
    {
     "data": {
      "text/html": [
       "<style  type=\"text/css\" >\n",
       "</style><table id=\"T_40a93071_f72d_11ea_8372_04922657055d\" ><thead>    <tr>        <th class=\"blank level0\" ></th>        <th class=\"col_heading level0 col0\" >Total Count</th>        <th class=\"col_heading level0 col1\" >Percentage of Players</th>    </tr>    <tr>        <th class=\"index_name level0\" >Age Ranges</th>        <th class=\"blank\" ></th>        <th class=\"blank\" ></th>    </tr></thead><tbody>\n",
       "                <tr>\n",
       "                        <th id=\"T_40a93071_f72d_11ea_8372_04922657055dlevel0_row0\" class=\"row_heading level0 row0\" ><10</th>\n",
       "                        <td id=\"T_40a93071_f72d_11ea_8372_04922657055drow0_col0\" class=\"data row0 col0\" >17</td>\n",
       "                        <td id=\"T_40a93071_f72d_11ea_8372_04922657055drow0_col1\" class=\"data row0 col1\" >2.95%</td>\n",
       "            </tr>\n",
       "            <tr>\n",
       "                        <th id=\"T_40a93071_f72d_11ea_8372_04922657055dlevel0_row1\" class=\"row_heading level0 row1\" >10-14</th>\n",
       "                        <td id=\"T_40a93071_f72d_11ea_8372_04922657055drow1_col0\" class=\"data row1 col0\" >22</td>\n",
       "                        <td id=\"T_40a93071_f72d_11ea_8372_04922657055drow1_col1\" class=\"data row1 col1\" >3.82%</td>\n",
       "            </tr>\n",
       "            <tr>\n",
       "                        <th id=\"T_40a93071_f72d_11ea_8372_04922657055dlevel0_row2\" class=\"row_heading level0 row2\" >15-19</th>\n",
       "                        <td id=\"T_40a93071_f72d_11ea_8372_04922657055drow2_col0\" class=\"data row2 col0\" >107</td>\n",
       "                        <td id=\"T_40a93071_f72d_11ea_8372_04922657055drow2_col1\" class=\"data row2 col1\" >18.58%</td>\n",
       "            </tr>\n",
       "            <tr>\n",
       "                        <th id=\"T_40a93071_f72d_11ea_8372_04922657055dlevel0_row3\" class=\"row_heading level0 row3\" >20-24</th>\n",
       "                        <td id=\"T_40a93071_f72d_11ea_8372_04922657055drow3_col0\" class=\"data row3 col0\" >258</td>\n",
       "                        <td id=\"T_40a93071_f72d_11ea_8372_04922657055drow3_col1\" class=\"data row3 col1\" >44.79%</td>\n",
       "            </tr>\n",
       "            <tr>\n",
       "                        <th id=\"T_40a93071_f72d_11ea_8372_04922657055dlevel0_row4\" class=\"row_heading level0 row4\" >25-29</th>\n",
       "                        <td id=\"T_40a93071_f72d_11ea_8372_04922657055drow4_col0\" class=\"data row4 col0\" >77</td>\n",
       "                        <td id=\"T_40a93071_f72d_11ea_8372_04922657055drow4_col1\" class=\"data row4 col1\" >13.37%</td>\n",
       "            </tr>\n",
       "            <tr>\n",
       "                        <th id=\"T_40a93071_f72d_11ea_8372_04922657055dlevel0_row5\" class=\"row_heading level0 row5\" >30-34</th>\n",
       "                        <td id=\"T_40a93071_f72d_11ea_8372_04922657055drow5_col0\" class=\"data row5 col0\" >52</td>\n",
       "                        <td id=\"T_40a93071_f72d_11ea_8372_04922657055drow5_col1\" class=\"data row5 col1\" >9.03%</td>\n",
       "            </tr>\n",
       "            <tr>\n",
       "                        <th id=\"T_40a93071_f72d_11ea_8372_04922657055dlevel0_row6\" class=\"row_heading level0 row6\" >35-39</th>\n",
       "                        <td id=\"T_40a93071_f72d_11ea_8372_04922657055drow6_col0\" class=\"data row6 col0\" >31</td>\n",
       "                        <td id=\"T_40a93071_f72d_11ea_8372_04922657055drow6_col1\" class=\"data row6 col1\" >5.38%</td>\n",
       "            </tr>\n",
       "            <tr>\n",
       "                        <th id=\"T_40a93071_f72d_11ea_8372_04922657055dlevel0_row7\" class=\"row_heading level0 row7\" >40+</th>\n",
       "                        <td id=\"T_40a93071_f72d_11ea_8372_04922657055drow7_col0\" class=\"data row7 col0\" >12</td>\n",
       "                        <td id=\"T_40a93071_f72d_11ea_8372_04922657055drow7_col1\" class=\"data row7 col1\" >2.08%</td>\n",
       "            </tr>\n",
       "    </tbody></table>"
      ],
      "text/plain": [
       "<pandas.io.formats.style.Styler at 0x1e55df082e0>"
      ]
     },
     "execution_count": 49,
     "metadata": {},
     "output_type": "execute_result"
    }
   ],
   "source": [
    "#Catagorize existing players using age bins\n",
    "purchase_data[\"Age Ranges\"] = pd.cut(purchase_data[\"Age\"], bins, labels=age_groups, include_lowest=True)\n",
    "age_group_df =pd.DataFrame(purchase_data.groupby(\"Age Ranges\")['SN'].nunique())\n",
    "age_group_df[\"Percentage of Players\"]=(age_group_df[\"SN\"]/age_group_df[\"SN\"].sum()*100)\n",
    "age_demo_df=age_group_df.rename(columns={\"SN\": \"Total Count\"})\n",
    "age_demo_df.style.format({\"Percentage of Players\":\"{:.2f}%\"})\n"
   ]
  },
  {
   "cell_type": "code",
   "execution_count": 99,
   "metadata": {},
   "outputs": [
    {
     "data": {
      "text/html": [
       "<style  type=\"text/css\" >\n",
       "</style><table id=\"T_cce8757b_f758_11ea_b429_04922657055d\" ><thead>    <tr>        <th class=\"blank\" ></th>        <th class=\"blank level0\" ></th>        <th class=\"col_heading level0 col0\" >Purchase Count</th>        <th class=\"col_heading level0 col1\" >Item Price</th>        <th class=\"col_heading level0 col2\" >Total Purchase Value</th>    </tr>    <tr>        <th class=\"index_name level0\" >Item ID</th>        <th class=\"index_name level1\" >Item Name</th>        <th class=\"blank\" ></th>        <th class=\"blank\" ></th>        <th class=\"blank\" ></th>    </tr></thead><tbody>\n",
       "                <tr>\n",
       "                        <th id=\"T_cce8757b_f758_11ea_b429_04922657055dlevel0_row0\" class=\"row_heading level0 row0\" >92</th>\n",
       "                        <th id=\"T_cce8757b_f758_11ea_b429_04922657055dlevel1_row0\" class=\"row_heading level1 row0\" >Final Critic</th>\n",
       "                        <td id=\"T_cce8757b_f758_11ea_b429_04922657055drow0_col0\" class=\"data row0 col0\" >13</td>\n",
       "                        <td id=\"T_cce8757b_f758_11ea_b429_04922657055drow0_col1\" class=\"data row0 col1\" >$4.61</td>\n",
       "                        <td id=\"T_cce8757b_f758_11ea_b429_04922657055drow0_col2\" class=\"data row0 col2\" >$59.99</td>\n",
       "            </tr>\n",
       "            <tr>\n",
       "                        <th id=\"T_cce8757b_f758_11ea_b429_04922657055dlevel0_row1\" class=\"row_heading level0 row1\" >178</th>\n",
       "                        <th id=\"T_cce8757b_f758_11ea_b429_04922657055dlevel1_row1\" class=\"row_heading level1 row1\" >Oathbreaker, Last Hope of the Breaking Storm</th>\n",
       "                        <td id=\"T_cce8757b_f758_11ea_b429_04922657055drow1_col0\" class=\"data row1 col0\" >12</td>\n",
       "                        <td id=\"T_cce8757b_f758_11ea_b429_04922657055drow1_col1\" class=\"data row1 col1\" >$4.23</td>\n",
       "                        <td id=\"T_cce8757b_f758_11ea_b429_04922657055drow1_col2\" class=\"data row1 col2\" >$50.76</td>\n",
       "            </tr>\n",
       "            <tr>\n",
       "                        <th id=\"T_cce8757b_f758_11ea_b429_04922657055dlevel0_row2\" class=\"row_heading level0 row2\" >82</th>\n",
       "                        <th id=\"T_cce8757b_f758_11ea_b429_04922657055dlevel1_row2\" class=\"row_heading level1 row2\" >Nirvana</th>\n",
       "                        <td id=\"T_cce8757b_f758_11ea_b429_04922657055drow2_col0\" class=\"data row2 col0\" >9</td>\n",
       "                        <td id=\"T_cce8757b_f758_11ea_b429_04922657055drow2_col1\" class=\"data row2 col1\" >$4.90</td>\n",
       "                        <td id=\"T_cce8757b_f758_11ea_b429_04922657055drow2_col2\" class=\"data row2 col2\" >$44.10</td>\n",
       "            </tr>\n",
       "            <tr>\n",
       "                        <th id=\"T_cce8757b_f758_11ea_b429_04922657055dlevel0_row3\" class=\"row_heading level0 row3\" >145</th>\n",
       "                        <th id=\"T_cce8757b_f758_11ea_b429_04922657055dlevel1_row3\" class=\"row_heading level1 row3\" >Fiery Glass Crusader</th>\n",
       "                        <td id=\"T_cce8757b_f758_11ea_b429_04922657055drow3_col0\" class=\"data row3 col0\" >9</td>\n",
       "                        <td id=\"T_cce8757b_f758_11ea_b429_04922657055drow3_col1\" class=\"data row3 col1\" >$4.58</td>\n",
       "                        <td id=\"T_cce8757b_f758_11ea_b429_04922657055drow3_col2\" class=\"data row3 col2\" >$41.22</td>\n",
       "            </tr>\n",
       "            <tr>\n",
       "                        <th id=\"T_cce8757b_f758_11ea_b429_04922657055dlevel0_row4\" class=\"row_heading level0 row4\" >103</th>\n",
       "                        <th id=\"T_cce8757b_f758_11ea_b429_04922657055dlevel1_row4\" class=\"row_heading level1 row4\" >Singed Scalpel</th>\n",
       "                        <td id=\"T_cce8757b_f758_11ea_b429_04922657055drow4_col0\" class=\"data row4 col0\" >8</td>\n",
       "                        <td id=\"T_cce8757b_f758_11ea_b429_04922657055drow4_col1\" class=\"data row4 col1\" >$4.35</td>\n",
       "                        <td id=\"T_cce8757b_f758_11ea_b429_04922657055drow4_col2\" class=\"data row4 col2\" >$34.80</td>\n",
       "            </tr>\n",
       "    </tbody></table>"
      ],
      "text/plain": [
       "<pandas.io.formats.style.Styler at 0x1e55f28ba60>"
      ]
     },
     "execution_count": 99,
     "metadata": {},
     "output_type": "execute_result"
    }
   ],
   "source": [
    "purchase_data = pd.read_csv(file_to_load)\n",
    "\n",
    "#Retrieve the Item ID, Item Name, and Item Price columns\n",
    "items_data=purchase_data[[\"Item ID\",\"Item Name\",\"Price\"]]\n",
    "\n",
    "#group by item and item name\n",
    "item_grouped = items_data.groupby([\"Item ID\",\"Item Name\"])\n",
    "item_count = pd.DataFrame(item_grouped[\"Price\"].count())\n",
    "item_mean=pd.DataFrame(item_grouped[\"Price\"].mean())\n",
    "item_sum=pd.DataFrame(item_grouped[\"Price\"].sum())\n",
    "\n",
    "#Label Columns\n",
    "pur_count=item_count.rename(columns={\"Price\": \"Purchase Count\"})\n",
    "app=item_mean.rename(columns={\"Price\": \"Item Price\"})\n",
    "tpv=item_sum.rename(columns={\"Price\": \"Total Purchase Value\"})\n",
    "\n",
    "#Merge into a summary data frame to hold the results \n",
    "df=pd.merge(pur_count, app, on=['Item ID', 'Item Name'])\n",
    "summary_df=pd.merge(df, tpv, on=['Item ID', 'Item Name'])\n",
    "\n",
    "#Sort by total purchase value to identify top 5 spenders\n",
    "sorted_df = summary_df.sort_values(by=\"Total Purchase Value\", ascending=False)\n",
    "top5=sorted_df.head(5)\n",
    "\n",
    "#Display data frame formatted for currency\n",
    "top5.style.format({\"Item Price\": \"${:,.2f}\", \n",
    "                   \"Total Purchase Value\": \"${:,.2f}\"})\n"
   ]
  },
  {
   "cell_type": "code",
   "execution_count": null,
   "metadata": {},
   "outputs": [],
   "source": []
  }
 ],
 "metadata": {
  "kernelspec": {
   "display_name": "Python 3",
   "language": "python",
   "name": "python3"
  },
  "language_info": {
   "codemirror_mode": {
    "name": "ipython",
    "version": 3
   },
   "file_extension": ".py",
   "mimetype": "text/x-python",
   "name": "python",
   "nbconvert_exporter": "python",
   "pygments_lexer": "ipython3",
   "version": "3.8.3"
  }
 },
 "nbformat": 4,
 "nbformat_minor": 4
}
